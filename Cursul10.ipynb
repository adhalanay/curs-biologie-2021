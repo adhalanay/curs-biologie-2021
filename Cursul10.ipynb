{
 "cells": [
  {
   "cell_type": "markdown",
   "id": "a4728799-1232-4368-b3a7-f9334ef08c3a",
   "metadata": {},
   "source": [
    "## Probabilități condiționate"
   ]
  },
  {
   "cell_type": "markdown",
   "id": "5e301499-2e32-4433-8a6c-8fb456a21982",
   "metadata": {},
   "source": [
    "Probabilitatea să obținem o anumită bază în șirul descendent poate să depindă de baza din șirul ancestral. Astfel dacă baza ancestrală este A, probabilitatea ca baza descendentă să fie A este mare. Dacă baza este G, atunci probabilitatea să obținem A este mai mică, deoarece o tranziție e mai puțin probabilă decît nici o mutație. Dacă baza ancestrală este C sau T, atunci probabilitatea să obținem A este și mai mică, deoarece o transversie este și mai puțin probabilă.\n",
    "\n",
    "Noțiunea matematică necesară pentru a formaliza acest tip de reționamente este cea de *probabilitate condiționată*. Această măsoara probabilitatea ca un eveniment să se întîmple ținînd cont de faptul că un alt eveniment a avut loc. Dacă notăm cu $S_1=A$ probabilitatea ca descendentul să aibă baza A și cu \n",
    "$S_0=G$ ca strămoșul să aibă baza G, atunci \n",
    "$$P(S_1=A|S_0=G)=0,02$$ \n",
    "denotă faptul că probabilitatea ca urmașul să aibă baza A, știind că predecesorul are baza G, este de $2\\%$.\n",
    "\n",
    "Probabilitățile condiționate au proprietăți similare cu probabilitățile necondiționate. Astfel\n",
    "$$P(S_1=A|S_0=G)+P(S_1=C|S_0=G)+P(S_1=G|S_0=G)+P(S_1=T|S_0=G)=1,$$ \n",
    "deoarece cele patru evenimente sînt mutual exclusive, dar unul dintre ele este sigur cî se va întîmpla.\n",
    "\n",
    "Trebuie să avem în vedere că $P(S_1=A| S_0=G)$ nu este totuna cu $P(S_1=A \\text{ și }S_0=G)$. Spre exemplu dacă avem șirurile:\n",
    "\n",
    "$$\\begin{aligned}\n",
    "S_0 & : & AGCTTC{\\underline C}GATCCGCTATAATCGTTAGTTGTTACA{\\underline C}CTCTG \\\\\n",
    "S_1 & : & AGCTTC{\\underline T}GATACGCTATAATCGTGAGTTGTTACA{\\underline T}CTCCG\n",
    "\\end{aligned}\n",
    "$$\n",
    "\n",
    "Avem două situri cu T în $S_1$ și C în $S_0$. Deci $P(S_1=T \\text{ și } S_0=C)=\\frac{2}{40} =0,05$. Pe de altă parte sînt $11$ poziții ocupate de $C$ în \n",
    "$S_0$ și doar două dintre acestea mută în $T$. Deci $P(S_1=T | S_0=C)=\\frac{2}{11} =0,182$."
   ]
  },
  {
   "cell_type": "code",
   "execution_count": null,
   "id": "8ca8b244-c7f5-4233-a891-d7dbe8c6b633",
   "metadata": {},
   "outputs": [],
   "source": []
  }
 ],
 "metadata": {
  "kernelspec": {
   "display_name": "Julia 1.7.0",
   "language": "julia",
   "name": "julia-1.7"
  },
  "language_info": {
   "file_extension": ".jl",
   "mimetype": "application/julia",
   "name": "julia",
   "version": "1.7.0"
  }
 },
 "nbformat": 4,
 "nbformat_minor": 5
}
