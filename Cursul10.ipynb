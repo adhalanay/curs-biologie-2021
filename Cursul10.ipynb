{
 "cells": [
  {
   "cell_type": "markdown",
   "id": "a4728799-1232-4368-b3a7-f9334ef08c3a",
   "metadata": {},
   "source": [
    "## Probabilități condiționate"
   ]
  },
  {
   "cell_type": "markdown",
   "id": "5e301499-2e32-4433-8a6c-8fb456a21982",
   "metadata": {},
   "source": [
    "Probabilitatea să obținem o anumită bază în șirul descendent poate să depindă de baza din șirul ancestral. Astfel dacă baza ancestrală este A, probabilitatea ca baza descendentă să fie A este mare. Dacă baza este G, atunci probabilitatea să obținem A este mai mică, deoarece o tranziție e mai puțin probabilă decît nici o mutație. Dacă baza ancestrală este C sau T, atunci probabilitatea să obținem A este și mai mică, deoarece o transversie este și mai puțin probabilă.\n",
    "\n",
    "Noțiunea matematică necesară pentru a formaliza acest tip de reționamente este cea de *probabilitate condiționată*. Această măsoara probabilitatea ca un eveniment să se întîmple ținînd cont de faptul că un alt eveniment a avut loc. Dacă notăm cu $S_1=A$ probabilitatea ca descendentul să aibă baza A și cu \n",
    "$S_0=G$ ca strămoșul să aibă baza G, atunci \n",
    "$$P(S_1=A|S_0=G)=0,02$$ \n",
    "denotă faptul că probabilitatea ca urmașul să aibă baza A, știind că predecesorul are baza G, este de $2\\%$.\n",
    "\n",
    "Probabilitățile condiționate au proprietăți similare cu probabilitățile necondiționate. Astfel\n",
    "$$P(S_1=A|S_0=G)+P(S_1=C|S_0=G)+P(S_1=G|S_0=G)+P(S_1=T|S_0=G)=1,$$ \n",
    "deoarece cele patru evenimente sînt mutual exclusive, dar unul dintre ele este sigur cî se va întîmpla.\n",
    "\n",
    "Trebuie să avem în vedere că $P(S_1=A| S_0=G)$ nu este totuna cu $P(S_1=A \\text{ și }S_0=G)$. Spre exemplu dacă avem șirurile:\n",
    "\n",
    "$$\\begin{aligned}\n",
    "S_0 & : & AGCTTC{\\underline C}GATCCGCTATAATCGTTAGTTGTTACA{\\underline C}CTCTG \\\\\n",
    "S_1 & : & AGCTTC{\\underline T}GATACGCTATAATCGTGAGTTGTTACA{\\underline T}CTCCG\n",
    "\\end{aligned}\n",
    "$$\n",
    "\n",
    "Avem două situri cu T în $S_1$ și C în $S_0$. Deci $P(S_1=T \\text{ și } S_0=C)=\\frac{2}{40} =0,05$. Pe de altă parte sînt $11$ poziții ocupate de $C$ în \n",
    "$S_0$ și doar două dintre acestea mută în $T$. Deci $P(S_1=T | S_0=C)=\\frac{2}{11} =0,182$.\n",
    "\n",
    "Putem calcula probabilități condiționate dacă știm unele probabilități necondiționate. Am văzut că $P(S_1=T \\text{ și } S_0=C)=\\frac{2}{40}$ și că $P(S_0=C)\n",
    "=\\frac{11}{40}$. Se observă că \n",
    "$$$P(S_1=T | S_0=C)=\\frac{2}{11} = \\frac{\\frac{2}{40}}{\\frac{40}{11}}=\\frac{P(S_1=T | S_0=C)}{P(S_0=C)}.$$\n",
    "\n",
    "Acest lucru nu este o întîmplare. Avem următoarea\n",
    "**Definiție:** Fie $E$ și $F$ două evenimente. Atunci probabilitate lui $E$ condiționată de $F$ este \n",
    "$$P(E|F)=\\frac{P(E \\cap F)}{P(F)}.$$\n",
    "\n",
    "Folosind noțiunea de probabilități condiționate putem da o definiție riguroasă a noțiunii de independență. Astfel $E$ și $F$ sînt independente dacă $P(E|F)=\n",
    "P(E)$ și $P(F|E)=P(F)$. Din definiția probabilităților condiționate avem \n",
    "$$\n",
    "\\frac{P(F \\cap E)}{P(E)}=P(F)\n",
    "$$\n",
    "și deci $P(F \\cap E)={P(E)}\\cdot P(F).$ Putem da acum definiția independenței:\n",
    "\n",
    "**Definiție:** Două evenimente $E$ și $F$ sînt independente dacă $P(E\\cap F)=P(E)\\cdot P(F)$.\n",
    "\n",
    "Să luăm două șiruri de 40 de baze\n",
    "$$\n",
    "\\begin{aligned}\n",
    "S_0 & : & ACTTGTCGGATGATCAGCGGTCCATGCACCTGACAACGGT \\\\\n",
    "S_1 & : & ACATGTTGCTTGACGACAGGTCCATGCGCCTGAGAACGGC\n",
    "\\end{aligned}\n",
    "$$\n",
    "\n",
    "Creem un tabel unde punem valorile $S_0=i$ și $S_1=j$ pentru $i,j$ unul dintre A, C, G sau T:"
   ]
  },
  {
   "cell_type": "markdown",
   "id": "5f33e544-22b8-4236-a5d3-b4c181fb64c7",
   "metadata": {},
   "source": [
    "\\frac{S0}{S1} | A | G | C | T \n",
    "--- | --- | --- | --- | --- |\n",
    "A | 7 | 0 | 1 | 1 |\n",
    "G | 1 | 9 | 2 | 0 |\n",
    "C | 0 | 2 | 7 | 2 | \n",
    "T | 1 | 0 | 1 | 6"
   ]
  },
  {
   "cell_type": "markdown",
   "id": "89364be6-81fa-4db6-bf72-2d5b92213d4d",
   "metadata": {},
   "source": [
    "Folosind acest tabel putem calcula cele $16$ probabilități condiționate $P(S_1=i|S_0=j).$ Pentru început vom determina toate sit-urile care conțin o anumită bază. Pentru aceasta vom face suma elementelor de pe coloane. Astfel sit-urile cu $S_0=A$ sînt în număr de $9$, cele cu $S_0=G$ sînt 11, $S_0=C$ sînt 10, iar cu $S_0=T$ sînt tot 10. Pentru a calcula $P(S_1=i|S_0=j)$ vom număra sit-urile cu $S_1=i$ și vom împărții la numărul total de apariții ale lui $i$. Practic numărul care apare în linia $i$ coloana $j$ cu suma elementelor de pe coloana $j$."
   ]
  },
  {
   "cell_type": "code",
   "execution_count": null,
   "id": "60264a75-68e2-48a1-8113-0971e5277d91",
   "metadata": {},
   "outputs": [],
   "source": []
  }
 ],
 "metadata": {
  "kernelspec": {
   "display_name": "Julia 1.7.0",
   "language": "julia",
   "name": "julia-1.7"
  },
  "language_info": {
   "file_extension": ".jl",
   "mimetype": "application/julia",
   "name": "julia",
   "version": "1.7.0"
  }
 },
 "nbformat": 4,
 "nbformat_minor": 5
}
