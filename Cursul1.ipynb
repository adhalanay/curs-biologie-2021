{
 "cells": [
  {
   "cell_type": "markdown",
   "id": "e44224a8-080d-4035-87ac-6aecad5a3e65",
   "metadata": {},
   "source": [
    "# Cursul 1"
   ]
  },
  {
   "cell_type": "markdown",
   "id": "e2a182cc-6fba-49fc-865f-fb5733e3b0d2",
   "metadata": {
    "tags": []
   },
   "source": [
    "## Modele liniare \n",
    "\n",
    "Unul din primele modele în dinamica populațiilor este modelul lui Malthus:\n",
    "\n",
    "> **Presupunem că avem o populația care crește datorită noilor nașteri cu un multiplu $f$ (fecunditate) al populației și în același timp o anumită fracție $d$ (rata de deces) a populației va muri.**\n",
    "\n",
    "Spre exemplu dacă presupunem că un organism trăiește 5 ani putem presupune că $d=\\frac{1}{5}$. Dacă de asemenea presupunem că sînt aproximativ 30 de nașteri la 100 de indivizi. *Se vede că am ales anii ca unitate de timp.*\n",
    "\n",
    "**Întrebări:**\n",
    "\n",
    "> 1. De ce $d \\in (0,1]$? Ce ar însemna ca $d \\leq 0$ sau $d > 1$?\n",
    "> 2. De ce $f > 0$, dar se poate ca $f>1$?\n",
    "> 3. Dacă alegem ca unitate de timp *zilele* cît vor fi $d$ și $f$ pentru elefanți, muște, bacterii?\n",
    "\n",
    "Dacă $P$ este mărimea populației la un moment dat, vom studia variația $\\Delta P$ a acesteia. În cazul nostru $\\Delta P=fP-dP=(f-d)P$. \n",
    "\n",
    "Notînd cu $P_t$ valoarea populației la momentul $t$, atunci $\\Delta P=P_{t+1}-P_t$, sau $P_{t+1}=P_t+\\Delta P$. Deci $P_{t+1}=P_t+(f-d)P_t$,\n",
    "sau $P_{t+1}=(1+f-d)P_t$. \n",
    "\n",
    "În exemplul nostru $f=0,3$, iar $d=0,2$. Astfel $P_{t+1}=1,1P_t$. În general vom face notația $P_{t+1}=\\lambda P_t$.\n",
    "\n",
    "**Exerciții:**\n",
    "\n",
    "> 1. Dacă populația evoluează după regula $P_{t+1}=\\lambda P_t$, atunci $P_t=\\lambda^t P_0$.\n",
    "> 2. Presupunem că o specie de insecte are un ciclu de viață în care o femelă depune 300 de ouă, apoi toți adulții mor. După eclozare doar \n",
    "$3\\%$ din larve devin femele mature, restul mor sau devin masculi. Vrem să studiem evoluția populației de femele.\n",
    "\n",
    ">> a) Determinați $f$, $d$ și ecuația de evoluție;\n",
    "\n",
    ">> b) Populația va crește sau va descrește?\n",
    "\n",
    ">> c) Presupunem că nu cunoaștem fecunditatea, dar știm că populația rămîne constantă. Cît este $f$?\n",
    "\n",
    "\n",
    "Expresiile de forma $P_{t+1}=F\\left(P_t\\right)$ se numesc **relații de recurență**. În exemplul nostru $F(x)=\\lambda x$. Astfel de funcții se numesc **liniare** și de aceea modele corespunzătoare se numesc liniare. Pe de altă parte în acest caz valorile lui $P_t$ cresc sau scad exponențial, de aceea aceste modele se mai numesc și *geometrice* sau *exponențiale*.\n",
    "\n",
    "**Problemă:** S-a observat că în stadiile prelimiare de dezvoltare ale embrionului de broască diviziunea celulară are loc la intervale regulate astfel că numărul de celule se dublează o dată la 30 de minute. \n",
    "\n",
    "1. Scrieți relația de recurență care modelează această situație. Trebuie să alegeți unitatea de timp $t$ și valoarea inițială;\n",
    "\n",
    "2. Folosind eventual programul de mai jos, scrieți tabelul valorilor lui $P_t$ în funcție de $t$. \n",
    "\n",
    "3. După 10 ore avem în jur de 30.000 de celule. Cum se potrivește cu modelul vostru? Ce concluzii biologice trageți de aici.\n",
    "\n",
    "\n"
   ]
  },
  {
   "cell_type": "code",
   "execution_count": 10,
   "id": "fccffd94-034c-45a0-b85f-1624b7a51eef",
   "metadata": {},
   "outputs": [
    {
     "name": "stdin",
     "output_type": "stream",
     "text": [
      "P0=  20\n",
      "Timpul final =  20\n",
      "λ =  2\n"
     ]
    },
    {
     "name": "stdout",
     "output_type": "stream",
     "text": [
      "|\u001b[1m Timp \u001b[0m|\u001b[1m  Valoare  \u001b[0m|\n",
      "|------|-----------|\n",
      "| 0.0  |   20.0    |\n",
      "| 1.0  |   40.0    |\n",
      "| 2.0  |   80.0    |\n",
      "| 3.0  |   160.0   |\n",
      "| 4.0  |   320.0   |\n",
      "| 5.0  |   640.0   |\n",
      "| 6.0  |  1280.0   |\n",
      "| 7.0  |  2560.0   |\n",
      "| 8.0  |  5120.0   |\n",
      "| 9.0  |  10240.0  |\n",
      "| 10.0 |  20480.0  |\n",
      "| 11.0 |  40960.0  |\n",
      "| 12.0 |  81920.0  |\n",
      "| 13.0 | 163840.0  |\n",
      "| 14.0 | 327680.0  |\n",
      "| 15.0 | 655360.0  |\n",
      "| 16.0 | 1.31072e6 |\n",
      "| 17.0 | 2.62144e6 |\n",
      "| 18.0 | 5.24288e6 |\n",
      "| 19.0 | 1.04858e7 |\n",
      "| 20.0 | 2.09715e7 |\n"
     ]
    }
   ],
   "source": [
    "using PrettyTables,IJulia \n",
    "P = IJulia.readprompt(\"P0= \")\n",
    "P = parse(Float64, P)\n",
    "tstop = IJulia.readprompt(\"Timpul final = \")\n",
    "tstop = parse(Int64,tstop)\n",
    "λ = IJulia.readprompt(\"λ = \")\n",
    "λ = parse(Float64,λ)\n",
    "vals=[P]\n",
    "for t in 1:tstop\n",
    "    P=λ*P\n",
    "    append!(vals,P)\n",
    "end\n",
    "df=hcat(collect(0:tstop),vals)\n",
    "conf=set_pt_conf(tf = tf_markdown, alignment = :c);\n",
    "header=[\"Timp\", \"Valoare\"];\n",
    "pretty_table_with_conf(conf,df;header=header)"
   ]
  },
  {
   "cell_type": "markdown",
   "id": "6c9c6716-791c-4fa3-a77f-78e74aeafc8f",
   "metadata": {},
   "source": [
    "## Modele neliniare\n",
    "\n"
   ]
  },
  {
   "cell_type": "code",
   "execution_count": null,
   "id": "1e5aaebd-1f21-446d-875e-2dacee04c19c",
   "metadata": {},
   "outputs": [],
   "source": []
  }
 ],
 "metadata": {
  "@webio": {
   "lastCommId": "f6a3182e-5e79-441c-9622-7fb26634b748",
   "lastKernelId": "5c466375-27d6-48b3-90c3-6d6c064308f9"
  },
  "kernelspec": {
   "display_name": "Julia 1.6.2",
   "language": "julia",
   "name": "julia-1.6"
  },
  "language_info": {
   "file_extension": ".jl",
   "mimetype": "application/julia",
   "name": "julia",
   "version": "1.6.2"
  }
 },
 "nbformat": 4,
 "nbformat_minor": 5
}
