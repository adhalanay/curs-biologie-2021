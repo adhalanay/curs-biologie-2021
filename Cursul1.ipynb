{
 "cells": [
  {
   "cell_type": "markdown",
   "id": "e2a182cc-6fba-49fc-865f-fb5733e3b0d2",
   "metadata": {
    "tags": []
   },
   "source": [
    "# Cursul I \n",
    "\n"
   ]
  },
  {
   "cell_type": "code",
   "execution_count": null,
   "id": "36ab9579-8056-40c6-b6a7-a5375622e801",
   "metadata": {},
   "outputs": [],
   "source": []
  }
 ],
 "metadata": {
  "kernelspec": {
   "display_name": "Julia 1.6.2",
   "language": "julia",
   "name": "julia-1.6"
  },
  "language_info": {
   "file_extension": ".jl",
   "mimetype": "application/julia",
   "name": "julia",
   "version": "1.6.2"
  }
 },
 "nbformat": 4,
 "nbformat_minor": 5
}
