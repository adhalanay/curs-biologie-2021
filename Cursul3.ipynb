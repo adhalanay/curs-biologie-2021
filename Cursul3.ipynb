{
 "cells": [
  {
   "cell_type": "markdown",
   "id": "2d758d97-c2c2-4270-bce7-a5cf43591a84",
   "metadata": {},
   "source": [
    "# Cursul 3"
   ]
  },
  {
   "cell_type": "markdown",
   "id": "f640ed2c-071c-405f-b4d2-2853ccdf25ad",
   "metadata": {},
   "source": [
    "## Recapitulare Matrice ##"
   ]
  },
  {
   "cell_type": "markdown",
   "id": "71a4ed40-d616-407d-b679-97801ec8588d",
   "metadata": {},
   "source": [
    "* Ca să putem înmulți două matrice trebuie ca numărul de coloane al primeia să coincidă cu numărul de coloane al celei de-a doua. În formule: $A\\in\\mathcal{M}_{l,m}(\\mathbb{R})$ poate fi înmulțită cu o matrice $B \\in \\mathcal{M}_{m,n}(\\mathbb{R}),$ iar produsul $C \\in \\mathcal{M}_{l,n}(\\mathbb{R})$.\n",
    "Dacă $$C=\\left(c_{uv}\\right)_{u=\\overline{1,l},v=\\overline{1,n}},$$ arunci $c_{uv} = a_{u1}b_{1v}+a_{u2}b_{2v}+\\dots+a_{um}b_{mv}$. \n",
    "\n",
    "* Un număr $\\alpha \\in \\mathbb{R}$ va fi numit un scalar. Înmulțirea unui vector sau a unei matrice cu un scalar se obține înmulțind fiecare compnentă cu scalarul $\\alpha:$ Dacă $A=\\left(a_{ij}\\right)$, atunci $\\alpha A=(\\alpha a_{ij}).$\n",
    "\n",
    "* Putem aduna două matrice de aceleași dimensiuni adunînd elementele corespunzătoare: dacă $A,B \\in \\mathcal{M}_{m,n}(\\mathbb{R})$, $A=(a_{ij}),B=(b_{ij})$, atunci $A+B=\\left(a_{ij}+b_{ij}\\right).$"
   ]
  },
  {
   "cell_type": "markdown",
   "id": "7790fe54-c476-451c-84aa-4105d6599d3e",
   "metadata": {},
   "source": [
    "## Modelul Leslie"
   ]
  },
  {
   "cell_type": "markdown",
   "id": "3c3d1c2f-cee8-47e1-a772-84a0d0e54d0f",
   "metadata": {},
   "source": [
    "Modelul ia în considerare faptul că rata fecundității variază o dată cu vîrsta. Modelăm o populație umană, împărțind-o pe cîteva clase de vîrstă:\n",
    "\n",
    "* $x_1(t)=$ numărul de indivizi cu vîrsta între $0$ și $14$ de ani;\n",
    "* $x_2(t)=$ numărul de indivizi cu vîrsta între $15$ și $29$ de ani;\n",
    "* $x_3(t)=$ numărul de indivizi cu vîrsta între $30$ și $44$ de ani;\n",
    "* $x_4(t)=$ numărul de indivizi cu vîrsta între $45$ și $59$ de ani;\n",
    "* $x_5(t)=$ numărul de indivizi cu vîrsta între $60$ și $75$ de ani;\n",
    "\n",
    "Presupunem că pasul este de $15$ ani. Modificarea la momentul $t+1$ este dată de\n",
    "$$\\left\\{\\begin{array}{cccccc} x_1(t+1) & = & f_1 x_1(t) & + & f_2 x_2(t) & + & f_3 x_3(t) & + & f_4 x_4(t) & + & f_5 x_5(t) \\\\ \n",
    "x_2(t+1) & = & \\tau_{1,2}x_1(t) \\\\ x_3(t+1) & = & & & \\tau_{2,3}x_2(t) \\\\ x_4(t+1) & = & & & & & \\tau_{3,4}x_3(t) \\\\ x_5(t+1) & = & & & & & & & \\tau_{4,5}x_4(t).\\end{array}\\right.$$ \n",
    "$f_j$ reprezintă fecunditatea fiecărei grupe de vîrstă, iar $\\tau_{i,i+1}$ reprezintă rata de supraviețuire a (nr.de indivizi de vîrsta $i$ care ating vîrsta\n",
    "$i+1$). \n",
    "\n",
    "Matricial scriem sistemul $\\mathbf{x}_{t+1}=P\\mathbf{x}_t$ cu matricea de proiecție $$P=\\left(\\begin{array}{cccccccc} f_1 & f_2 & f_3 & f_4 & f_5 \\\\\n",
    "\\tau_{1,2} & 0 & 0 & 0 & 0 \\\\ 0 & \\tau_{2,3} & 0 & 0 & 0 \\\\ 0 & 0 & \\tau_{3,4} & 0 & 0 \\\\ 0 & 0 & 0 & \\tau_{4,5} & 0 \\end{array}\\right).$$\n",
    "\n",
    "Cîteva observații:\n",
    "* pentru că părinții pot fi în grupe diferite de vîrstă, trebuie să ținem cont de acest fapt și să împărțim $f_i$ la 2;\n",
    "* Ne așteptăm că unele $f_i$ să fie $0$ pentru vîrste mai înaintate;\n",
    "\n",
    "Putem îmbunătății modelul luînd pasul de timp egal cu $5$. De asemenea este mai practic să fie ignorați bărbații și să urmărim doar nașterilor copiilor de sex feminin. Astfel un model al populației SUA în 1964 care urmărește doar femeile în $10$ grupe de vîrstă cu durata de cîte $5$ ani și pasul egal cu $5$ are pe \n",
    "prima linie $\\left(\\begin{array}{c} 0 & 0,001 & 0,0878 & 0,3487 & 0,4761 & 0,3377 & 0,1833 & 0,0761 & 0,0174 & 0,0010 \\end{array}\\right)$, iar ratele de \n",
    "supraviețuire vor fi $\\left(\\begin{array}{c} 0,9961 & 0,9983 & 0,9979 & 0,9968 & 0,9961 & 0,9947 & 0,9923 & 0,9987 & 0,9831 \\end{array}\\right).$"
   ]
  },
  {
   "cell_type": "markdown",
   "id": "cbfc013b-eee3-4adc-8f22-d9a327fded3d",
   "metadata": {},
   "source": [
    "## Modelul Usher"
   ]
  },
  {
   "cell_type": "markdown",
   "id": "2e3887c6-472c-47a0-9857-f7fa5bd6b0e4",
   "metadata": {},
   "source": [
    "Modelul Usher este o variație a celui precedent cu posibilitatea de a avea valori nenule pe diagonală. Spre exemplu putem lua pasul de timp de $5$ ani, iar grupele de vîrstă să fie de $15$ ani. În această situație unele persone vor trece într-o clasă superioară de vîrstă, dar multe rămîn în aceeași grupă. Matricea de proiecție este de forma $$P=\\left(\\begin{array}{cccccccc} f_1+\\tau_{1,1} & f_2 & f_3 & f_4 & f_5 \\\\\n",
    "\\tau_{1,2} & \\tau_{2,2} & 0 & 0 & 0 \\\\ 0 & \\tau_{2,3} & \\tau_{3,3} & 0 & 0 \\\\ 0 & 0 & \\tau_{3,4} & \\tau_{4,4} & 0 \\\\ 0 & 0 & 0 & \\tau_{4,5} & \\tau_{5,5} \\end{array}\\right),$$ unde coeficienții $\\tau_{i,i}$ măsoaraă procentul de indivizi care rămîn în aceeași grupă de vîrstă."
   ]
  },
  {
   "cell_type": "markdown",
   "id": "6cf499e2-8574-4c0e-9818-da0b12259879",
   "metadata": {},
   "source": [
    "## Inversa unei matrice"
   ]
  },
  {
   "cell_type": "markdown",
   "id": "b59a54b1-92c2-467f-95c5-52e60f645e45",
   "metadata": {},
   "source": [
    "Să presupunem că avem un model liniar cu o matrice de proiecție $2x2:$ $\\mathbf{x}_1=P\\mathbf{x}_0$. Ce facem cînd vrem să găsim valoarea inițială, cunoscînd\n",
    "$\\mathbf{x}_1$. Nu putem împărți cu $P$ așa cum am face cu un scalar, dar putem să înmulțim ambii membri cu o matrice $Q$ sperînd să facem să dispară $P$. \n",
    "Obținem $Q\\mathbf{x}_1=QP\\mathbf{x_0}$. $QP$ este tot o matrice $2x2$, iar matricea care ne convine este $I_2=\\left(\\begin{array}{cc} 1 & 0 \\\\ 0 & 1 \\end{array}\\right)$, matricea identică.\n",
    "\n",
    "În general matricea identică $n\\times n$ este matricea $I_n$ care are $1$ pe diagonală și $0$ în rest. $$I_2\\cdot\\left(\\begin{array}{c}x \\\\ y\\end{array}\\right)=\\left(\\begin{array}{c}x \\\\ y\\end{array}\\right).$$ Deci $I_2$ funcționează ca $1$ pentru numerele obișnuite.\n",
    "\n",
    "Dacă pentru orice $P\\in \\mathcal{M}_n(\\mathbb{R})$ există o matrice pătratică $Q \\in \\mathcal{M}_n(\\mathbb{R})$ astfel încît $QP=I_n$, atunci spunem că $P$ este inversabilă și notăm pe $Q$ cu $P^{-1}$. Se poate arăta că $QP=I_n$ implică $PQ=I_n$ și $Q$ este unică.\n",
    "\n",
    "Trebuie să avem un criteriu pentru ca o matrice să aibă inversă. Spre exemplu \n",
    "$$\\left(\\begin{array}{cc}1 & 2 \\\\ 3 & 4\\end{array}\\right)^{-1}=\\left(\\begin{array}{cc} -2 & 1 \\\\ \\frac{3}{2} & -\\frac{1}{2}\\end{array}\\right),$$\n",
    "deci are inversă. Pe de altă parte matricea $$\\left(\\begin{array}{cc} 1 & 2 \\\\ 2 & 4 \\end{array}\\right)$$ nu are inversă.\n",
    "\n",
    "Pentru început să vedem cum am putea găsi inversa unei matrice $$\\left(\\begin{array}{cc} a & b \\\\ c & d\\end{array}\\right).$$ Căutăm \n",
    "$$\\left(\\begin{array}{cc} x & y \\\\ z & t\\end{array}\\right) \\left(\\begin{array}{cc} a & b \\\\ c & d\\end{array}\\right) = \\left(\\begin{array}{cc} 1 & 0 \\\\ 0 & 1\\end{array}\\right).$$ Ne vom concentra mai întîi pe pozițiile cu $0$. Se vede că putem lua $x=d$ și $y=-b$ și $z=-c$, $t=a$. Produsul lor va fi \n",
    "$$\\left(\\begin{array}{cc} ad-bc & 0 \\\\ 0 & ad-bc\\end{array}\\right).$$ Acum ca să obținem $1$ pe diagonală mai trebuie să la $ad-bc$, dacă putem, adică în cazul \n",
    "în care $ad-bc \\neq 0$. Prin urmare \n",
    "$$\\left(\\begin{array}{cc} a & b \\\\ c & d\\end{array}\\right)^{-1}=\\left(\\begin{array}{cc} \\frac{d}{ad-bc} & \\frac{-b}{ad-bc} \\\\ \\frac{-c}{ad-bc} & \\frac{d}{ad-bc}\\end{array}\\right).$$\n",
    "\n",
    "**Definiție:**  Scalarul $ad-bc$ se numește **determinantul** lui $A$, notat cu $\\det(A)$.\n",
    "\n",
    "Pentru matrice de dimensiuni mai mari definiția determinantului și calculul inversei este mai complicat. Putem reduce această problemă la rezolvarea a $n$ sisteme liniare:\n",
    "$$A\\cdot\\mathbf{x}=\\left(\\begin{array}{c}1 \\\\ 0 \\\\ \\vdots \\\\ 0 \\end{array}\\right),\\dots, A\\cdot\\mathbf{x}=\\left(\\begin{array}{c}0 \\\\ 0 \\\\ \\vdots \\\\ 1\\end{array}\\right).$$"
   ]
  },
  {
   "cell_type": "markdown",
   "id": "e71d66a4-2e70-445c-8ab1-907147e3da07",
   "metadata": {},
   "source": [
    "În practică putem folosi următoarele funcții Julia. Să luăm matricea $$A=\\left(\\begin{array}{ccc}1 & -3 & -1 \\\\ -2 & 7 & 2 \\\\ 3 & 2 & -4\\end{array}\\right).$$ "
   ]
  },
  {
   "cell_type": "code",
   "execution_count": 7,
   "id": "46c9b568-f1ad-49cb-86c2-f9fc52cb489a",
   "metadata": {},
   "outputs": [
    {
     "data": {
      "text/plain": [
       "3×3 Matrix{Float64}:\n",
       " 32.0  14.0  -1.0\n",
       "  2.0   1.0   0.0\n",
       " 25.0  11.0  -1.0"
      ]
     },
     "execution_count": 7,
     "metadata": {},
     "output_type": "execute_result"
    }
   ],
   "source": [
    "using LinearAlgebra\n",
    "A=[1 -3 -1; -2 7 2; 3 2 -4]\n",
    "det(A)\n",
    "inv(A)"
   ]
  }
 ],
 "metadata": {
  "kernelspec": {
   "display_name": "Julia 1.6.3",
   "language": "julia",
   "name": "julia-1.6"
  },
  "language_info": {
   "file_extension": ".jl",
   "mimetype": "application/julia",
   "name": "julia",
   "version": "1.6.3"
  }
 },
 "nbformat": 4,
 "nbformat_minor": 5
}
