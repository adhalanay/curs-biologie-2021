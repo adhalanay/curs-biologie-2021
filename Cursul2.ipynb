{
 "cells": [
  {
   "cell_type": "markdown",
   "id": "ed407c71-4228-414f-b2ba-c319b4ab7910",
   "metadata": {},
   "source": [
    "# Cursul 2 #"
   ]
  },
  {
   "cell_type": "markdown",
   "id": "8a95a2a4-208d-4d19-85bd-b5e67b7ffefa",
   "metadata": {
    "tags": []
   },
   "source": [
    "## Variații ale modelului logistic ##"
   ]
  },
  {
   "cell_type": "markdown",
   "id": "e49860af-283a-43e4-8c96-41d899e4ad34",
   "metadata": {},
   "source": [
    " În modelul logistic $P_{t+1}=P_t\\left(1+r\\left(1-\\frac{P_t}{K}\\right)\\right)$. Adică scriind $P_{t+1}=F(P_t)$ avem $F(P)=\\left(1+r\\left(1-\\frac{P}{K}\\right)\\right).$ Graficul acestei funcții este \n",
    " \n",
    "  ![](patr1.png) \n",
    " \n",
    " Se observă din acest grafic  (sau dacă ați făcut experimente cu diferite valori ale lui $r$ sau $P_0$) că după un număr suficient de pași, $P_t$ poate deveni \n",
    " negativ. O primă interpetare a acestui  fapt este că populația dispare. Dar mai realist este să presupunem că pentru valori din ce în ce mai mari ale lui $t$, $P_{t+1}$ scade dar rămîne pozitiv\n",
    " \n",
    " ![](exp.png)\n",
    " \n",
    " Aceasta este graficul funcției $F(P)=Pe^{r\\left(1-\\frac{P}{K}\\right)}$. Modelul $P_{t+1}=P_te^{r\\left(1-\\frac{P}{K}\\right)}$ se numește modelul logistic al lui Rickert, introdus prima dată îm 1954. Echilibrele acestuia sînt $P^*=0$ și $P^*=K$. Să motivăm introducerea acestui model. Pentru modelul logistic am luat\n",
    " $\\frac{\\Delta P}{P}=r\\left(1-\\frac{P}{K}\\right)$ ca să obținem graficul \n",
    " \n",
    " ![](lin.png)\n",
    " \n",
    " Una din problemele graficului este că nu putem avea că $\\frac{\\Delta P}{P}$ este mai mic decît $-1$. Aceasta ar însemna că avem mai mult de un deces per individ. Atunci este normal să presupunem că funcția $\\frac{\\Delta P}{P}$ are graficul de forma\n",
    " \n",
    " ![](exp-1.png)\n",
    " \n",
    " Acesta este graficul funcției de scădere exponențială, translatată cu $-1$. Deci obținem că $$\\frac{\\Delta P}{P}=ae^{-bP} - 1.$$ Facem substituțiile $b=\\frac{r}{K}$ și $a=e^r$. Obținem deci $$\\frac{\\Delta P}{P}=e^r e^{-r\\frac{P}{K}} - 1=e^{r\\left(1-\\frac{P}{K}\\right)}-1.$$ Prin procedeul standard obținem că\n",
    " $$P_{t+1}=P_te^{r\\left(1-\\frac{P_t}{K}\\right)}.$$\n",
    " \n",
    " Și în acest caz $K$ se interpretează drept capacitatea de încărcare a mediului, deoarece pentru $P > K$, $\\Delta P < 0$. Rata de creștere intrinsecă este de data\n",
    " aceasta $e^r-1$.\n",
    " \n",
    " De fapt nici modelul Ricker nu este exact. Ca să obținem un model, măsurăm pentru fiecare $t$ valorile lui $P_t$ și $P_{t+1}$, desenăm punctele $(P_t,P_{t+1})$\n",
    "pe un grafic (luăm $P_t$ pe axa $x-$lor, și $P_{t+1}$ pe axa $y-$lor) și „reglăm” parametrii $K$ și $r$ astfel ca graficul funcției să treacă cel mai aproape de puncte. \n",
    "\n",
    "Un alt model este $$P_{t+1}=\\frac{\\lambda P_t}{\\left(1+aP_t\\right)^\\beta}.$$ Valorile parametrilor nu au o semnificație biologică clară, dar permit o ajustare mai \n",
    "bună.  \n"
   ]
  },
  {
   "cell_type": "markdown",
   "id": "bd0e1457-22b7-4cc0-9faf-72dc0eac75dc",
   "metadata": {},
   "source": [
    "# Modele liniare multi-dimensionale #"
   ]
  },
  {
   "cell_type": "markdown",
   "id": "4aa55557-9fb2-4666-ace1-0935d4be4174",
   "metadata": {},
   "source": [
    "Modele pe care le-am considerat pînă acum presupun că populația este formată dintr-un singur tip de indivizi. În realitate o populație conține subgrupuri a căror comportament vital este diferit. De exemplu insectele trec prin diferite faze de dezvoltare: ouă, larve, crisalide, adult. Ratele de deces variază pentru fiecare fază de dezvoltare și doar adulții se reproduc. La fel plantele trec prin stadiile de sămînță, sămînță încolțită, plantă neînflorită, plantă înflorită. \n",
    "\n",
    "Modelele liniare apar cînd nu studiem întreaga populație ci urmărim evoluția fiecărei subgrupe, precum grupele de vîrstă sau numărul de indivizi care se află într-o anumită etapă de dezvoltare. Vom folosi doar cele mai simple ecuații, ecuații liniare.\n",
    "\n",
    "Să începem cu un exemplu. Avem o specie de insecte cu trei stadii de dezvoltare: ou, larvă și adult. Presupunem că după o unitate de timp un individ trece de la ou la larvă, de la larvă la adult după o altă unitate de timp. Adulții depun ouă și mor după o altă unitate de timp. Notăm astfel:\n",
    " * $E_t$ este numărul de ouă la momentul $t$;\n",
    " * $L_t$ este numărul de larve la momentul $t$;\n",
    " * $A_t$ este numărul de adulți la momentul $t$.\n",
    " Presupunem că doar $4\\%$ din ouă devin larve, doar $39\\%$ din larve devin adulți și fiecare adult produce în medie $73$ de ouă. Avem sistemul\n",
    " $$ \\left\\{ \\begin{array}{ccc} E_t & = & 73 A_t\\\\ L_t & = & 0,04 E_t \\\\ A_t & = & 0,39 L_t. \\end{array}\\right.$$ Spunem că ecuațiile sînt **cuplate**. Ca o primă\n",
    " observație avem $A_{t+3}=0,39\\cdot 0,04\\cdot 73 A_t=1,1388 A_t$."
   ]
  },
  {
   "cell_type": "code",
   "execution_count": null,
   "id": "828651fb-8d62-47e3-94a9-647cb6b1f3e4",
   "metadata": {},
   "outputs": [],
   "source": []
  }
 ],
 "metadata": {
  "@webio": {
   "lastCommId": "bc78571a-4875-466a-a7d9-e9300365b87b",
   "lastKernelId": "9a317847-c604-4282-bbd6-e4b20577e607"
  },
  "kernelspec": {
   "display_name": "Julia 1.6.3",
   "language": "julia",
   "name": "julia-1.6"
  },
  "language_info": {
   "file_extension": ".jl",
   "mimetype": "application/julia",
   "name": "julia",
   "version": "1.6.3"
  }
 },
 "nbformat": 4,
 "nbformat_minor": 5
}
