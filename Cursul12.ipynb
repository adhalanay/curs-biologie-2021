{
 "cells": [
  {
   "cell_type": "markdown",
   "id": "5edbc311-318e-48ee-b4f8-6a50a456019d",
   "metadata": {},
   "source": [
    "## Genetică-Legile lui Mendel"
   ]
  },
  {
   "cell_type": "markdown",
   "id": "44c8e783-8709-44bb-892e-8369e81ca8c8",
   "metadata": {},
   "source": [
    "Genetica își are originea în cercetările pe care Gregor Mendel le-a făcut în grădina mănăstirii sale din Brno. El s-a concentrat pe plantele de mazăre și a considerat caracteristici care puteau lua doar una sau două forme, numite trăsături. El a izolat șapte astfel de caracteristici: lungimea tulpinii, forma bobului, culoarea florilor, forma păstăilor, culoarea păstăilor și poziția florilor. Prin selecție repetată, a obținut „linii pure” pentru fiecare trăsătură, astfel s-a asigurat că urmașii sînt identici cu părinții. Deci toți urmașii unei linii pure pentru plante înalte vor fi înalți, iar pentru cele pitice vor fi pitice.\n",
    "\n",
    "Pentru fiecare caracteristică Mendel a încrucișat două linii pure. Astfel plante înalte au fost încrucișate cu plante pitice, plante cu boabe netede cu plante cu boabe ridate. Mendel a observat că urmașii aveau doar una din trăsăturile părinților și nu o combinație a acestora. Mai mult urmașii unei încrucișări între o plantă înaltă și una pitică sînt întotdeauna înalți, referitor la boabe urmașii vor avea totdeauna boabe netede. Trăsăturile care se manifestă la urmași au fost numite *dominante*, iar cele care nu se manifestă *recesive*. Prima generație obținută este notată cu $F_1$. Trăsăturile dominante sîn date în tabelul:\n",
    "\n",
    "Trăsături ale părinților | $$F_1$$\n",
    "--- | --- |\n",
    "Înalte/pitice | Înalte\n",
    "Boabe rotunde/zbîrcite | rotunde\n",
    "Boabe galbene/verzi | galbene\n",
    "Flori roșii/albe | roșii\n",
    "Păstăi umflate/strînse | umflate\n",
    "Păstăi verzi/galbene | verzi\n",
    "Flori axiale/terminale | axiale\n",
    "\n",
    "La pasul următor plantele din generația $F_1$ au fost auto-polenizate și s-a obținut generația $F_2.$ Rezultatele lui Mendel au fost\n",
    "\n",
    "Trăsături  | $$F_2$$ | raport\n",
    "--- | --- |--- |\n",
    "Înalte/pitice |787 înalte, 277 pitice | 2,84:1 \n",
    "Boabe rotunde/zbîrcite | 5474 rotunde, 1850 pitice | 2,96:1\n",
    "Boabe galbene/verzi | 6022 galbene, 2001 verzi | 3,01:1\n",
    "Flori roz/albe | 705 roz, 224 albe | 3,15:1\n",
    "Păstăi umflate/strînse | 882 umflate, 299 atrînse | 2,95:1\n",
    "Păstăi verzi/galbene | 428 verzi, 152 galbene | 2,82:1 \n",
    "Flori axiale/terminale | 651 axiale, 207 terminale | 3.14:1\n",
    "\n",
    "Deci trăsăturile recesive au reapărut în generația $F_2$. Raporturile între numărul plantelor cu trăsătura dominantă ți numărul celor cu trăsătura recesivă este în fiecare caz aproximativ de 3:1. \n",
    "\n",
    "Acest fenomen l-a condus pe Mendel să formuleze ipoteza că pentru fiecare caracteristică planta de mazăre are o pereche de factori ereditari, pe care le-a numit *gene*. Fiecare genă poate să apară în mai multe forme, numite *alele*, corespunzătoare unei trăsături. Astfel pentru lungimea tulpinii avem o alelă înaltă D și un pitică d. Notăm cu litere mari alela dominantă și cu litere mici pe cea recesivă. Liniile pure au două alele identice și sînt numite *homozigote*. Genotipurile lor sînt dd pentru plantele pitice și DD pentru cele înalte.\n",
    "\n",
    "Referitor la transmitere, Mendel a emis ipoteza că fiecare părinte transmite exact cîte o genă. Deci dacă părintele are genotipul Dd atunci va transmite una dintre alelele D sau d. Acesta este *principiul segregării*: alelele sînt unități discrete și indivizibile. O altă consecință este că urmașii vor avea tot exact două gene pentru fiecare caracteristică, iar numărul de gene nu crește cu generațiile.\n",
    "\n",
    "Probabiliatea intervine în determinarea cărei gene din pereche va fi transmisă urmașilor. Deci urmașul va primi cu probabilitate egală una dintre gene de la tată și una de la mamă.\n",
    "\n",
    "Pentru a determina fenotipul (trăsăturile) urmașilor putem folosi *pătratul Punnett*\n",
    "\n",
    "  . | D | d \n",
    " --- |--- |---|\n",
    " D   | DD | Dd \n",
    " d   | dD | dd  "
   ]
  },
  {
   "cell_type": "markdown",
   "id": "3c7c963a-65d8-4f68-8eb6-b8e9f7564c3c",
   "metadata": {},
   "source": [
    "Cu modelul lui Mendel putem face predicții privind combinații de trăsături. Dacă notăm cu W și w, alelele pentru forma bobului (rotund sau zbîrcit), putem studia încrucișarea $DdWw \\times ddWw$. Presupunem ca și Mendel că segregarea alelelelor pentru gene diferite sînt evenimente independente. Putem scrie un pătrat Punnett pentru acest caz\n",
    " \n",
    "   . | DW | Dw | dW | dw  \n",
    " -- | -- | -- |-- | -- |\n",
    " dW  | dDWW | dDWw | ddWW | ddWw | \n",
    " dw  | dDWw | dDww | ddWw | ddww |\n",
    " dW  | dDWW | dDWw | ddWW | ddWw | \n",
    " dw  | dDWw | dDww | ddWw | ddww |\n",
    " \n",
    " "
   ]
  },
  {
   "cell_type": "markdown",
   "id": "ca7997d9-6003-4969-ba91-c66f71e00502",
   "metadata": {},
   "source": [
    "În cele 16 combinații sînt 6 genotipuri diferite care produc 4 fenotipuri. Astfel putem număra și vedea că fracția plantelor înalte cu bobul rotund este $\\frac{6}{16}$, a plantelor înalte cu bob zbîrcit este $\\frac{2}{16}$, etc. \n",
    "\n",
    "Din păcate pătratul Punnett crește exponențial cu numărul de gene (pentru $n$ gene dimensiunea sa este $2^n \\times 2^n$) deci devine imposibil de folosit în practică. Este mult mai bine să folosim teoria probabilităților. Calculăm probabilitățile de a obține un urmaș pitic cu boabe zbîrcite. Cum aceste trăsături sînt recesive singura combinație genetică este ddww. Deci probabilitatea căutată este $P=P(ddww)=P(dw \\text{ la primul părinte })P(dw \\text{ la al doilea părinte })=\n",
    "P(d \\text{ la primul părinte })P(w \\text{ la primul părinte })P(d \\text{ la al doilea părinte })P(w \\text{ la al doilea părinte }).$ Calculăm fiecare probabilitate și obținem $\\frac{1}{2}\\frac{1}{2} 1 \\frac{1}{2}.$\n",
    "\n",
    "Să calculăm acum probabilitatea ca urmașul să aibă tulpina pitică și bobul rotund. Cum trăsătura de a ave bob rotund este dominantă, aceasta este dată de genotipurile $WW$ și $Ww$. Deci probabilitatea este $P=P(ddWW \\lor ddWw)=P(ddWW)+P(ddWw),$ deoarece evenimentele sînt independente. Calculăm fiecare probabilitate pe rînd și obținem $P(ddWW)=P(dW \\text{ de la primul părinte})P(dW \\text{ de la al doilea părinte})=\\frac{1}{2}\\frac{1}{2} 1 \\frac{1}{2}=\\frac{1}{8}.$ \n",
    "$P(ddWw)=P(dW \\text{ de la primul părinte})P(dw \\text{ de la al doilea părinte})+P(dw \\text{ de la primul părinte})P(dW \\text{ de la al doilea părinte})=\n",
    "\\frac{1}{8}+\\frac{1}{2}\\frac{1}{2} 1 \\frac{1}{2}=\\frac{1}{4}.$ Deci probabilitatea totală este $P=\\frac{1}{8}+\\frac{1}{4}=\\frac{3}{8}.$ \n",
    "\n",
    "Cu toate că modelul mendelian nu acoperă toate fenomenele genetice, poate fi folosit cu succes pentru a studia anumite maladii genetice. O astfel de boală este boala Tay-Sachs, care afectează predominant anumite populații. Această boală este provocată de o alelă recesivă a unei anumite gene. Se estimează că 1 din 31 adulți așkenazi din America de Nord sînt heterozigoți cu această alelă. "
   ]
  },
  {
   "cell_type": "markdown",
   "id": "7d01605d-4544-454a-ae11-752e01589be6",
   "metadata": {},
   "source": [
    "## Variabile aleatoare"
   ]
  },
  {
   "cell_type": "markdown",
   "id": "d6bb186d-b58f-4272-92cb-6121e0009200",
   "metadata": {},
   "source": [
    "Variabilele aleatoare măsoară rezultatele unei măsurători dintr-un experiment în care este implicat un proces probabilistic. Spre exemplu \n",
    "- aruncăm o monedă de 10 ori și numărăm de cîte ori apare cap. Avem o variabilă aleatoare cu valorile posibile $0,1,\\dots,10$;\n",
    "- Părinți care sînt heterozigoți pentru gena bolii Tay-Sachs au 3 copii. Numărul copiilor care sînt homozigoți recesivi este o variabilă aleatoare care poate lua valorile $0,1,2,3$;\n",
    "- În experimentul lui privind plantele înalte și cele pitice, Mendel a obținut $1064$ de plante în generația $F_2$. O variabilă aleatoare este proporția de plante înalte. Ea ia valori între $0=\\frac{0}{1064}$ și $1=\\frac{1064}{1064}$.\n",
    "\n",
    "Ca să analizăm variabilele aleatoare vom folosi *distribuția de probabilitate* a unei variabile aleatoare. Distribuția de probabilitate a unei variabile aleatoare măsoară probabilitatea fiecărui rezultat. \n",
    "\n",
    "Mai precis dacă $X$ este o variabilă aleatoare atunci distribuția sa de probabilitate este $f(x):=P(X=x).$ \n",
    "\n",
    "Spre exemplu să considerăm aruncarea unei monede de 3 ori și să cercetăm probabilitatea să obținem exact de 2 ori cap. Avem 3 posibilități : HHT, HTH,THH din 8, deci probabilitatea este $\\frac{3}{8}$ (fiecare eveniment are probabilitatea $\\frac{1}{8}$). Dacă vrem să vedem care este șansa să obținem exact de 12 ori cap la 35 de aruncări? Putem încerca să numărăm ca și mai înainte, dar este destul de mult și riscăm să greșim. Acum este cazul să introducem distribuția binomială.\n",
    "\n",
    "La fiecare aruncare avem probabilitatea $\\frac{1}{2}$ ca să obținem $H$ sau $T$, deci pentru a obține exact de 2 ori H la aruncarea 1 și la aruncarea 2, la aruncarea 1 și la aruncarea 3 sau la aruncarea 2 și la aruncarea 3. Deci avem $C_3^2$ evenimente fiecare cu probabilitatea $\\frac{1}{8}$. \n",
    "\n",
    "În general să presupunem că avem $n$ încercări independente într-un proces aleator cu două rezultate posibile : succes (S) sau eșec (E). Presupunem de asemenea \n",
    "că $P(S)=p$ și $P(E)=q=1-p$. Considerăm variabila aleatoare $X$ care numără succesele în $n$ încercări. Avem\n",
    "$$P(X=k)=C_n^k p^k q^{n-k}.$$\n"
   ]
  },
  {
   "cell_type": "markdown",
   "id": "dd6c8ed9-e992-43b3-a179-ef550826f0bc",
   "metadata": {},
   "source": [
    "Putem folosi distribuția binomială în următorul exemplu: \n",
    "\n",
    "La șoareci alela care dă blana agouti A este dominantă față de alela a care dă culoarea ne-agouti. \n",
    "![iepure](./1280px-Rabbit_(agouti)_04.jpg)"
   ]
  },
  {
   "cell_type": "markdown",
   "id": "9adc966e-410a-4b7d-8fad-c0e57991cb63",
   "metadata": {},
   "source": [
    "Presupunem că o pereche de șoareci $Aa \\times Aa$ are 4 urmași. Care este probabilitatea că exact 3 urmași să fie agouti? Din legile lui Mendel rezultă că probabilitatea ca un urmaș să fie agouti este $\\frac{3}{4}$, dar nu putem să presupunem că 3 urmași din 4 vor fi agouti.\n",
    "\n",
    "Enumerînd toate cazurile posibile avem patru posibilități pentru pui NAAA,ANAA,AANA,AAAN, unde A denotă faptul că puiul este agouti, iar N că nu este. Deci probabilitatea căutată este \n",
    "$$P=P(NAAA)+P(ANAA)+P(AANA)+P(AAAN)=\\frac{1}{4}\\cdot\\left(\\frac{3}{4}\\right)^3+\\frac{1}{4}\\cdot\\left(\\frac{3}{4}\\right)^3+\\frac{1}{4}\\cdot\\left(\\frac{3}{4}\\right)^3+\\frac{1}{4}\\cdot\\left(\\frac{3}{4}\\right)^3=4\\cdot\\frac{27}{256}=0,412875.$$\n",
    "\n",
    "Folosind distribuția binomială avem formula\n",
    "$$P=C_4^3\\cdot\\left(\\frac{3}{4}\\right)^3\\cdot\\frac{1}{4}$$"
   ]
  },
  {
   "cell_type": "code",
   "execution_count": 1,
   "id": "fee718e1-ec40-4818-a3f4-baea213c2279",
   "metadata": {},
   "outputs": [
    {
     "data": {
      "text/plain": [
       "0.421875"
      ]
     },
     "execution_count": 1,
     "metadata": {},
     "output_type": "execute_result"
    }
   ],
   "source": [
    "4*27/256"
   ]
  },
  {
   "cell_type": "code",
   "execution_count": 2,
   "id": "6e757bde-cff2-4f84-a510-117572b5fa4a",
   "metadata": {},
   "outputs": [
    {
     "data": {
      "text/plain": [
       "0.421875"
      ]
     },
     "execution_count": 2,
     "metadata": {},
     "output_type": "execute_result"
    }
   ],
   "source": [
    "binomial(4,3)*(3/4)^3*(1/4)"
   ]
  },
  {
   "cell_type": "code",
   "execution_count": null,
   "id": "b285af7f-fa43-45e6-a697-21aeddb1143a",
   "metadata": {},
   "outputs": [],
   "source": []
  }
 ],
 "metadata": {
  "kernelspec": {
   "display_name": "Julia 1.7.0",
   "language": "julia",
   "name": "julia-1.7"
  },
  "language_info": {
   "file_extension": ".jl",
   "mimetype": "application/julia",
   "name": "julia",
   "version": "1.7.1"
  }
 },
 "nbformat": 4,
 "nbformat_minor": 5
}
