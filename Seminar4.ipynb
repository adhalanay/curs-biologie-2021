{
 "cells": [
  {
   "cell_type": "code",
   "execution_count": 4,
   "id": "5059c69d-d795-478e-8170-09d534645f74",
   "metadata": {},
   "outputs": [
    {
     "data": {
      "text/plain": [
       "3×3 Matrix{Int64}:\n",
       "  3   2  -1\n",
       " -2   0   2\n",
       "  0  -1   1"
      ]
     },
     "metadata": {},
     "output_type": "display_data"
    },
    {
     "data": {
      "text/plain": [
       "3×3 Matrix{Float64}:\n",
       " 0.25  -0.125   0.5\n",
       " 0.25   0.375  -0.5\n",
       " 0.25   0.375   0.5"
      ]
     },
     "metadata": {},
     "output_type": "display_data"
    },
    {
     "name": "stdout",
     "output_type": "stream",
     "text": [
      "8.0"
     ]
    }
   ],
   "source": [
    "using LinearAlgebra\n",
    "A=[3 2 -1; -2 0 2; 0 -1 1]\n",
    "display(A)\n",
    "print(det(A))\n",
    "display(inv(A))"
   ]
  },
  {
   "cell_type": "code",
   "execution_count": null,
   "id": "aaf7e7f5-584e-47a3-bad2-91115c2ede73",
   "metadata": {},
   "outputs": [],
   "source": []
  }
 ],
 "metadata": {
  "kernelspec": {
   "display_name": "Julia 1.6.3",
   "language": "julia",
   "name": "julia-1.6"
  },
  "language_info": {
   "file_extension": ".jl",
   "mimetype": "application/julia",
   "name": "julia",
   "version": "1.6.3"
  }
 },
 "nbformat": 4,
 "nbformat_minor": 5
}
