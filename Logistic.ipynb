{
 "cells": [
  {
   "cell_type": "code",
   "execution_count": 2,
   "id": "7cbe6b6e-1088-4c25-9733-3d2445dc6a64",
   "metadata": {},
   "outputs": [
    {
     "data": {
      "application/vnd.jupyter.widget-view+json": {
       "model_id": "ae62c80101de4d5880902c1d3ff87d85",
       "version_major": 2,
       "version_minor": 0
      },
      "text/plain": [
       "Interactive function <function _ at 0x7f53f4ab3700> with 1 widget\n",
       "  r: SelectionSlider(description='r', option…"
      ]
     },
     "metadata": {},
     "output_type": "display_data"
    }
   ],
   "source": [
    "@interact \n",
    "def _(r=slider([2+x/50.0 for x in range(0,100)])):\n",
    "    P = 0.3\n",
    "    tstop = 50\n",
    "    K = 1.0\n",
    "    vals=[P]\n",
    "    for t in range(tstop):\n",
    "        P = r*(1-P/K)*P\n",
    "        vals.append(P)\n",
    "    plt=list_plot(list(zip([0..tstop],vals)),plotjoined=True,marker='d',gridlines='major')\n",
    "    print(P)\n",
    "    plt.show()\n"
   ]
  },
  {
   "cell_type": "code",
   "execution_count": 26,
   "id": "3044facd-8429-48c1-b16f-c45a0d6d5ce7",
   "metadata": {},
   "outputs": [
    {
     "data": {
      "image/png": "[encoded data removed]",
      "text/plain": [
       "Graphics object consisting of 1 graphics primitive"
      ]
     },
     "execution_count": 26,
     "metadata": {},
     "output_type": "execute_result"
    }
   ],
   "source": [
    "P = 0.3\n",
    "tstop = 15\n",
    "K = 1.0\n",
    "vals=[P]\n",
    "r=3.1\n",
    "for t in range(tstop):\n",
    "        P = (1.0+r*(1-P/K))*P\n",
    "        vals.append(P)\n",
    "ts=[0..tstop]\n",
    "ps=list(zip(ts,vals))\n",
    "list_plot(ps)"
   ]
  },
  {
   "cell_type": "code",
   "execution_count": 15,
   "id": "870a3cc8-4e99-4538-aec6-995dd7d3c201",
   "metadata": {},
   "outputs": [
    {
     "data": {
      "text/plain": [
       "[0, 1, 2]"
      ]
     },
     "execution_count": 15,
     "metadata": {},
     "output_type": "execute_result"
    }
   ],
   "source": [
    "[0..2]"
   ]
  },
  {
   "cell_type": "code",
   "execution_count": null,
   "id": "91bfb210-ca75-4701-88b1-e6de660f3a16",
   "metadata": {},
   "outputs": [],
   "source": []
  }
 ],
 "metadata": {
  "kernelspec": {
   "display_name": "SageMath 9.4",
   "language": "sage",
   "name": "sagemath"
  },
  "language_info": {
   "codemirror_mode": {
    "name": "ipython",
    "version": 3
   },
   "file_extension": ".py",
   "mimetype": "text/x-python",
   "name": "python",
   "nbconvert_exporter": "python",
   "pygments_lexer": "ipython3",
   "version": "3.9.7"
  }
 },
 "nbformat": 4,
 "nbformat_minor": 5
}
