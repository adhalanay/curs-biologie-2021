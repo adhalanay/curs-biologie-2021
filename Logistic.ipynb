{
 "cells": [
  {
   "cell_type": "code",
   "execution_count": 3,
   "id": "7cbe6b6e-1088-4c25-9733-3d2445dc6a64",
   "metadata": {},
   "outputs": [
    {
     "data": {
      "application/vnd.jupyter.widget-view+json": {
       "model_id": "91c019666d5246fdb21a18f70c261d20",
       "version_major": 2,
       "version_minor": 0
      },
      "text/plain": [
       "Interactive function <function _ at 0x7fa28455c310> with 1 widget\n",
       "  r: SelectionSlider(description='r', option…"
      ]
     },
     "metadata": {},
     "output_type": "display_data"
    }
   ],
   "source": [
    "@interact \n",
    "def _(r=slider([2+x/50.0 for x in range(0,50)])):\n",
    "    P = 0.3\n",
    "    tstop = 150\n",
    "    K = 1.0\n",
    "    vals=[P]\n",
    "    for t in range(tstop):\n",
    "        P = (1+r*(1-P/K))*P\n",
    "        vals.append(P)\n",
    "    plt=list_plot(list(zip([0..tstop],vals)),marker='d',gridlines='major')\n",
    "    print(P)\n",
    "    plt.show()\n"
   ]
  },
  {
   "cell_type": "code",
   "execution_count": null,
   "id": "e1215b92-abdf-49b3-9c6f-5685a89675ac",
   "metadata": {},
   "outputs": [],
   "source": []
  }
 ],
 "metadata": {
  "kernelspec": {
   "display_name": "SageMath 9.4",
   "language": "sage",
   "name": "sagemath"
  },
  "language_info": {
   "codemirror_mode": {
    "name": "ipython",
    "version": 3
   },
   "file_extension": ".py",
   "mimetype": "text/x-python",
   "name": "python",
   "nbconvert_exporter": "python",
   "pygments_lexer": "ipython3",
   "version": "3.9.7"
  }
 },
 "nbformat": 4,
 "nbformat_minor": 5
}
