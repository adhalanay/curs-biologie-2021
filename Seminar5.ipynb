{
 "cells": [
  {
   "cell_type": "code",
   "execution_count": 17,
   "id": "a175137b-db1e-480e-bf8b-37806281e80a",
   "metadata": {},
   "outputs": [
    {
     "data": {
      "text/plain": [
       "2-element Vector{Float64}:\n",
       " -0.7569178573608528\n",
       "  1.0569178573608526"
      ]
     },
     "execution_count": 17,
     "metadata": {},
     "output_type": "execute_result"
    }
   ],
   "source": [
    "using LinearAlgebra\n",
    "P=[0.3 2;0.4 0]\n",
    "eigvals(P)"
   ]
  },
  {
   "cell_type": "code",
   "execution_count": 8,
   "id": "9198a71f-1a15-4d95-adc6-80e976c13369",
   "metadata": {},
   "outputs": [
    {
     "data": {
      "text/plain": [
       "2×2 Matrix{Float64}:\n",
       " -0.884136  0.935261\n",
       "  0.46723   0.353958"
      ]
     },
     "execution_count": 8,
     "metadata": {},
     "output_type": "execute_result"
    }
   ],
   "source": [
    "A=eigvecs(P)"
   ]
  },
  {
   "cell_type": "code",
   "execution_count": 10,
   "id": "2ed08d81-0126-44d9-8c6b-bab99b2947de",
   "metadata": {},
   "outputs": [
    {
     "data": {
      "text/plain": [
       "2-element Vector{Float64}:\n",
       " 3.8757235667897567\n",
       " 9.00995975221677"
      ]
     },
     "execution_count": 10,
     "metadata": {},
     "output_type": "execute_result"
    }
   ],
   "source": [
    "sol=inv(A)*[5;5]"
   ]
  },
  {
   "cell_type": "code",
   "execution_count": 11,
   "id": "c4e4ca35-151c-4298-a6c2-7389c31ad8ca",
   "metadata": {},
   "outputs": [
    {
     "data": {
      "text/plain": [
       "3×3 Matrix{Float64}:\n",
       " 0.0   0.0   73.0\n",
       " 0.04  0.0    0.0\n",
       " 0.0   0.39   0.65"
      ]
     },
     "execution_count": 11,
     "metadata": {},
     "output_type": "execute_result"
    }
   ],
   "source": [
    "Q=[0 0 73;0.04 0 0; 0 0.39 0.65]"
   ]
  },
  {
   "cell_type": "code",
   "execution_count": 12,
   "id": "de93eaf7-4242-4722-8bed-0e163e2a38ef",
   "metadata": {},
   "outputs": [
    {
     "data": {
      "text/plain": [
       "Eigen{ComplexF64, ComplexF64, Matrix{ComplexF64}, Vector{ComplexF64}}\n",
       "values:\n",
       "3-element Vector{ComplexF64}:\n",
       " -0.3308944790088644 - 0.8709972970263271im\n",
       " -0.3308944790088644 + 0.8709972970263271im\n",
       "  1.3117889580177289 + 0.0im\n",
       "vectors:\n",
       "3×3 Matrix{ComplexF64}:\n",
       "  -0.998999-0.0im         -0.998999+0.0im         0.999374+0.0im\n",
       "  0.0152311-0.040092im    0.0152311+0.040092im   0.0304736+0.0im\n",
       " 0.00452826+0.0119195im  0.00452826-0.0119195im  0.0179585+0.0im"
      ]
     },
     "execution_count": 12,
     "metadata": {},
     "output_type": "execute_result"
    }
   ],
   "source": [
    "eigen(Q)"
   ]
  },
  {
   "cell_type": "code",
   "execution_count": 14,
   "id": "262b4e36-4ab7-4329-97e4-57cd3c65d83b",
   "metadata": {},
   "outputs": [
    {
     "data": {
      "text/plain": [
       "3×3 Matrix{ComplexF64}:\n",
       "  -0.998999-0.0im         -0.998999+0.0im         0.999374+0.0im\n",
       "  0.0152311-0.040092im    0.0152311+0.040092im   0.0304736+0.0im\n",
       " 0.00452826+0.0119195im  0.00452826-0.0119195im  0.0179585+0.0im"
      ]
     },
     "execution_count": 14,
     "metadata": {},
     "output_type": "execute_result"
    }
   ],
   "source": [
    "B=eigvecs(Q)"
   ]
  },
  {
   "cell_type": "code",
   "execution_count": 16,
   "id": "b9cd9f79-32fa-45a4-b9d5-32d068addfe3",
   "metadata": {},
   "outputs": [
    {
     "data": {
      "text/plain": [
       "3-element Vector{ComplexF64}:\n",
       " 17.600390784843754 + 66.6253270260371im\n",
       "  17.60039078484376 - 66.62532702603708im\n",
       "  135.2501645347758 - 1.5265909593676081e-15im"
      ]
     },
     "execution_count": 16,
     "metadata": {},
     "output_type": "execute_result"
    }
   ],
   "source": [
    "inv(B)*[100;10;1]"
   ]
  },
  {
   "cell_type": "code",
   "execution_count": 19,
   "id": "85962cb2-350f-44c3-9f00-e7253e49a4c0",
   "metadata": {},
   "outputs": [
    {
     "data": {
      "text/plain": [
       "-3.426666849014692"
      ]
     },
     "execution_count": 19,
     "metadata": {},
     "output_type": "execute_result"
    }
   ],
   "source": [
    "sol[1]*A[1,1]"
   ]
  },
  {
   "cell_type": "code",
   "execution_count": 21,
   "id": "7474ed26-ba8f-4a26-90ea-f2d31e6b334b",
   "metadata": {},
   "outputs": [
    {
     "data": {
      "text/plain": [
       "8.42666684901469"
      ]
     },
     "execution_count": 21,
     "metadata": {},
     "output_type": "execute_result"
    }
   ],
   "source": [
    "sol[2]*A[1,2]"
   ]
  },
  {
   "cell_type": "code",
   "execution_count": 22,
   "id": "ad4032d6-d337-4311-9539-03488d90f4dc",
   "metadata": {},
   "outputs": [
    {
     "data": {
      "text/plain": [
       "1.810852691975036"
      ]
     },
     "execution_count": 22,
     "metadata": {},
     "output_type": "execute_result"
    }
   ],
   "source": [
    "sol[1]*A[2,1]"
   ]
  },
  {
   "cell_type": "code",
   "execution_count": 23,
   "id": "886164cc-5ff0-45b2-883b-c6b8d6c44fd4",
   "metadata": {},
   "outputs": [
    {
     "data": {
      "text/plain": [
       "3.1891473080249644"
      ]
     },
     "execution_count": 23,
     "metadata": {},
     "output_type": "execute_result"
    }
   ],
   "source": [
    "sol[2]*A[2,2]"
   ]
  },
  {
   "cell_type": "code",
   "execution_count": 24,
   "id": "0708e926-ac52-4f8c-99ad-360407e6ed92",
   "metadata": {},
   "outputs": [
    {
     "data": {
      "text/plain": [
       "3×3 Matrix{Float64}:\n",
       " 0.11  0.15  0.15\n",
       " 0.3   0.0   0.0\n",
       " 0.0   0.6   0.6"
      ]
     },
     "execution_count": 24,
     "metadata": {},
     "output_type": "execute_result"
    }
   ],
   "source": [
    "P1=[0.11 0.15 0.15;0.3 0 0;0 0.6 0.6]"
   ]
  },
  {
   "cell_type": "code",
   "execution_count": 25,
   "id": "e6ffdf08-a353-4605-8237-7bf8208f476b",
   "metadata": {},
   "outputs": [
    {
     "data": {
      "text/plain": [
       "Eigen{Float64, Float64, Matrix{Float64}, Vector{Float64}}\n",
       "values:\n",
       "3-element Vector{Float64}:\n",
       " -3.0531133177191805e-16\n",
       "  0.030924391538023954\n",
       "  0.6790756084619761\n",
       "vectors:\n",
       "3×3 Matrix{Float64}:\n",
       "  4.57382e-16   0.0707588  0.283621\n",
       " -0.707107      0.686437   0.125297\n",
       "  0.707107     -0.723739   0.950715"
      ]
     },
     "execution_count": 25,
     "metadata": {},
     "output_type": "execute_result"
    }
   ],
   "source": [
    "eigen(P1)"
   ]
  },
  {
   "cell_type": "code",
   "execution_count": null,
   "id": "2b01ffe7-90a1-4fff-8484-6fbbccfdb0ab",
   "metadata": {},
   "outputs": [],
   "source": []
  }
 ],
 "metadata": {
  "kernelspec": {
   "display_name": "Julia 1.6.3",
   "language": "julia",
   "name": "julia-1.6"
  },
  "language_info": {
   "file_extension": ".jl",
   "mimetype": "application/julia",
   "name": "julia",
   "version": "1.6.3"
  }
 },
 "nbformat": 4,
 "nbformat_minor": 5
}
