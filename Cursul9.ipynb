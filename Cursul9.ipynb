{
 "cells": [
  {
   "cell_type": "markdown",
   "id": "f21ebdff-2dba-49fe-9378-a4756216468e",
   "metadata": {},
   "source": [
    "# Probabilități și Probabilități condiționate"
   ]
  },
  {
   "cell_type": "markdown",
   "id": "dedc1ddf-9e4b-4c80-b395-cb3192c7013e",
   "metadata": {},
   "source": [
    "Vom introduce primele noțiuni de probabilități în contextul evoluției moleculare. Evoluția lucrează prin selecția naturală, dar pentru a funcționa este nevoie să existe o variabilitate în cadrul trăsăturilor genetice ale speciei. Cum selecția naturală are tendința să reducă variabilitatea, trebuie să existe un fenomen care să producă noi variații. Acestea sînt introduse la nivelul moleculei de ADN prin modificări aleatoare în structura acesteia în timpul procesului de copiere la noile generații.\n",
    "\n",
    "Majoritatea modificărilor moleculare sînt considerate neutre din punctul de vedere al supraviețuirii. Deci pe măsură ce generațiile se succed, o anumită genă va acumula modificări, îndepărtîndu-se din ce în ce mai mult de forma ancestrală. Astfel speciile care provin dintr-un strămoș comun vor avea gene similare, dar distincte. Aceasta ne conduce la concluzia existenței unui strămoș comun, iar diferențele indică divergența evolutivă."
   ]
  },
  {
   "cell_type": "markdown",
   "id": "7e491f0f-51ad-4a3f-8dfb-ae8e892a3849",
   "metadata": {},
   "source": [
    "Este relativ ușor de \"citit\" structura ADN-ul o problemă interesantă este de a determina legăturile evolutive între două specii, prin examinarea unor șiruri de ADN dintr-o anumită genă. \n",
    "\n",
    "O primă dificultate este de a defini ce înseamnă \"gradul de similaritate\" pentru două șiruri ADN. Pentru aceasta vom prezenta modelele matematice ale proceselor de mutație ale ADN-ului, adică ceea ce se numește evoluția moleculară. Principalul instrument matematic este teoria probabilităților."
   ]
  },
  {
   "cell_type": "markdown",
   "id": "470e8cc6-e663-4ab5-87c0-f9bf7c8329fa",
   "metadata": {},
   "source": [
    "## Structura ADN-ului"
   ]
  },
  {
   "cell_type": "markdown",
   "id": "0180246e-8b85-4792-b920-abb9ec6014ac",
   "metadata": {},
   "source": [
    "Molecula de ADN este compusă din două elice unite : \n",
    "[imagine](https://en.wikipedia.org/wiki/DNA#/media/File:DNA_Structure+Key+Labelled.pn_NoBB.png) \"punțile\" între cele două scări\n",
    "au la capăt una dintre bazele (sau nucleotidele) : adenină (A), guanină (G), citozină (C) și timină (T). Adenina și guanina se numesc **purine**, iar celelalte două **pirimidine**. Fiecare bază va fi legată printr-o legătură de hidrogen cu o bază complementară astfel: A cu T și G cu C. Deci dacă se cunoaște o parte a elicei și cealaltă este cunoscută: spre exemplul șirul \n",
    "AGCCTTAT corespunde cu TCGGAATA. De asemenea molecula de ADN are o direcție, adică AGCCTTAT este diferită de TATTCCGA. Din punct de vedere matematic vom modela molecula de ADN ca un șir format din 4 simboluri A, T, G și C.\n",
    "\n",
    "Anumite segmente de ADN formează **gene** care codifică instrucțiuni pentru sintetizarea de proteine (de obicei prin intermediul ARN mesager, dar există și alte mecanisme). Într-o bază tripletele de baze formează **codoni**, fiecare codon specificînd amino acidul care trebuie plasat în proteină conform codului genetic. Spre exemplu codonul TGC determină plasarea cisteinei în poziția corespunzătoare din proteină. Alți codoni semnalizează sfîrșitul moleculei. Există doar 20 de amino-acizi \n",
    "și $4^3=64$ codoni. Deci există o mare doză de redunanță. \n",
    "\n",
    "Nu întreg ADN-ul este grupat în gene. Spre exemplu la om $97\\%$ din ADN este ne codificator. O parte este ADN fără nici o funcție numit junk DNA, este posibil ca o parte să capete o funcție în cursul evoluției. Alte părți par să joace un rol de regularizare, dar multe aspecte rămîn necunoscute.\n",
    "\n",
    "În momentul copierii ADN-ului legăturile orizontale se rup, iar noile elice duble se formează prin lipirea bazelor complementare. Cu toate că există mecanisme pentru a asigura că copierea se face fără erori, acestea apar destul de des, aparent la întîmplare.\n",
    "\n",
    "Cea mai comună eroare este **substituția de bază**: o bază este înlocuită cu alta în același loc. Dacă o purină este înlocuită cu o purină sau o pirimidină cu o pirimidină, atunci spunem că este o **tranziție**, iar dacă nu este o **transversie**. Spre\n",
    "exemplu dacă $AATCGC \\to AATGGC$ avem o tranziție pe poziția a patra. Tranzițiile sînt mai frecvente decît transversiile.\n",
    "\n",
    "Alte mutații care pot apărea sînt ștergerea uneia sau mai multor baze, inserția uneia sau mai multor baze, sau inversarea unei secțiuni ale unei secvențe. Cum acest tip de mutații apar mai rar în natură le vom ingnora în cele ce urmează.\n",
    "\n",
    "Problema care ne interesează este să determinăm cîte mutații (substituții de bază) au avut loc pe parcursul evoluției unei secvențe de ADN. Să presupunem că avem\n",
    "$$\\begin{align}\n",
    "S_0 & : & AC{\\underline G}TGC{\\underline A}TCC \\\\\n",
    "S_1 & : & AC{\\underline A}TGC{\\underline G}TCC \\\\\n",
    "S_2 & : & AC{\\underline G}TGC{\\underline G}TCC\n",
    "\\end{align}\n",
    "$$\n",
    "aparent între $S_0$ și $S_2$ avem o singură mutație, deci presupunem că rata mutațiilor este $\\frac{1}{10}$. Uitîndu-ne însă și la $S_1$ vedem că una dintre mutații este ascunsă și de fapt proporția mutațiilor este de $\\frac{3}{10}$. \n",
    "\n",
    "Avem nevoie de o metodă matematică de a lua în considerare și mutațiile ascunse atunci cînd ne uităm doar la șirurile inițial și final. Pentru aceasta avem nevoie de teoria probabilităților."
   ]
  },
  {
   "cell_type": "markdown",
   "id": "88d21236-45af-40bc-968a-3c53df29708d",
   "metadata": {},
   "source": [
    "## Probabilități"
   ]
  },
  {
   "cell_type": "markdown",
   "id": "6c920923-db97-4592-9a5e-6cda926240fd",
   "metadata": {},
   "source": [
    "Să presupunem că aruncăm o monedă sau rostogolim un zar. Probabilitatea să iasă una dintre fețele mondei sau cifra 6 este un număr cuprins între $0$ și $1$ care măsoară șansele ca aceasta să se întîmple. Spre exemplu pentru o monedă corectă $\\mathcal{P}(\\text{față})=\\frac{1}{2}$, iar pentru un zar nemăsluit $\\mathcal{P}(6)=\\frac{1}{6}$. Aceasta nu înseamnă că dacă vom arunca o monedă de două ori vom avea o dată cap și o dată pajură sau dacă aruncăm zarul de șase ori o dată va ieși 6, ci doar că dacă aruncăm moneda de un număr mai mare de ori vom obține cap la aproximativ jumătate din aruncări. \n",
    "\n",
    "Putem spune că probabilitatea măsoară șansa ca să obținem un rezultat întîmplător. De asemenea folosim probabilitățile pentru a studia fenomenele care chiar dacă sînt deterministe au rezultatele greu de prezis. Deci probabilitatea prezice procentul în care vom obține un anumit rezultat pentru un număr mare de încercări. Deci probabilitatea nu prezice la modul absolut ce se va întîmpla, ci doar ne va da un procent de încredere. Cu cît $\\mathcal{P}$ este mai mare cu atît ne vom aștepta la respectivul \n",
    "rezultat, iar cu cît $\\mathcal{P}$ este mai mic cu atît rezultatul este mai rar. \n",
    "\n",
    "Avem două excepții: dacă $\\mathcal{P}=100\\%$ atunci evenimentul sigur se va întîmpla, iar dacă $\\mathcal{P}=0$ sigur nu va avea loc.\n",
    "\n",
    "Chiar dacă un eveniment precum aruncarea unei monezi are două posibilități nu putem presupune automat că cele două posibilități\n",
    "au aceeași probabilitate. Ca să ne asigurăm că monedă este cinstită trebuie să o aruncăm de un număr mai mare de ori și să notăm rezultatele. Atunci\n",
    "$$\n",
    "\\mathcal{P}(\\text{cap})=\\frac{\\text{ nr. de ori de cîte a ieșit cap}}{\\text{nr. total de aruncări}}.\n",
    "$$\n",
    "Spre exemplu dacă din 20 de aruncări am obținut de 11 ori cap, atunci $$\\mathcal{P}(\\text{cap})=\\frac{11}{20}=55\\%.$$ Adică la $100$ de aruncări ne așteptăm să obținem de $55$ de ori cap.\n",
    "\n",
    "Presupunem că avem secvența de ADN cu 40 de baze:\n",
    "$$AGCTTCCGATCCGCTATAATCGTTAGTTGTTACACCTCTG.$$\n",
    "Ne întrebăm care este probabilitatea ca următoarea bază să fie $A$. Fără să luăm în considerare funcția fragmentului, putem presupune că fiecare bază este luată la întîmplare. Avem $8$ A-uri, $7$ G-uri, $11$ C-uri și $14$ T-uri atunci\n",
    "$$\\begin{align}\n",
    "\\mathcal{P}(A)=\\frac{8}{40}=\\frac{1}{5} & & \\mathcal{P}(G)=\\frac{7}{40} \\\\\n",
    "\\mathcal{P}(C)=\\frac{11}{40} & &\\mathcal{P}(T)=\\frac{14}{40}.\n",
    "\\end{align}\n",
    "$$\n",
    "Deci probabilitatea să găsim $A$ pe poziția $41$ este $20\\%$."
   ]
  },
  {
   "cell_type": "markdown",
   "id": "ddefd730-0e6f-4d05-a3df-196c9393cdf8",
   "metadata": {},
   "source": [
    "**Definiție:** O mulțime de rezultate posibile a unui fenomen se numește un eveniment"
   ]
  },
  {
   "cell_type": "markdown",
   "id": "0366fd53-e2f9-4995-9b7f-1021512c741a",
   "metadata": {},
   "source": [
    "Spre exemplu pentru o aruncare a unei monede, avem evenimentele $E_{H}=\\left\\{H\\right\\}$,$E_{T}=\\left\\{T\\right\\}$,\n",
    "$E_{niciunul}=\\emptyset$, $E_{ambele}=\\left\\{H,T\\right\\}$. \n",
    "\n",
    "În cazul exemplului cu ADN-ul putem lua evenimente de felul $E_{purine}=\\left\\{A,G\\right\\}$, $E_{pirimidine}=\\left\\{C,T\\right\\}$\n",
    "sau chiar $E_{\\text{nu e A}} = \\left\\{G,C,T\\right\\}$. Avem\n",
    "$$\n",
    "\\begin{align}\n",
    "\\mathcal{P}(E_{purine})=\\mathcal{P}(A)+\\mathcal{G}=\\frac{15}{40} & & \\mathcal{P}(E_{pirimidine})=\\mathcal{P}(C)+\\mathcal{P}(T)=\\frac{25}{40} \\\\\n",
    "\\mathcal{P}(E_{\\text{nu e A}}) = \\frac{32}{40} = 1-\\mathcal{P}(A)\n",
    "\\end{align}\n",
    "$$"
   ]
  },
  {
   "cell_type": "markdown",
   "id": "08ab6e31-4276-4719-9a40-63f890f72898",
   "metadata": {},
   "source": [
    "Avem următorul rezultat:\n",
    "\n",
    "**Regula adunării: Probabilitatea unui eveniment este suma probabilităților rezultatelor care formează acel eveniment.**"
   ]
  },
  {
   "cell_type": "markdown",
   "id": "40b0bbed",
   "metadata": {},
   "source": [
    "Acest rezultat este un caz particular al următorului principiu fundamental:\n",
    "\n",
    "Dacă un eveniment se scrie ca $E=E_1 \\cup E_2$ cu $E_1 \\cap E_2 =\\emptyset$ atunci $\\mathcal{P}(E)=\\mathcal{P}(E_1)+\n",
    "\\mathcal{P}(E_2).$\n",
    "\n",
    "O consecință importantă a acestui principiu este următoarea:\n",
    "\n",
    "Dacă $E'$ este complementul unui eveniment $E$ atunci $\\mathcal{P}(E')=1-\\mathcal{P}(E).$ \n",
    "\n",
    "Să presupunem acum că aruncăm în același timp un zar și o monedă. Avem 12 rezultate posibile: $(H,1),(H,2),\\dots\n",
    "(H,6),(T,1),\\dots,(T,6)$.  Evenimentul \"cade cap\" este $E_{H}=\\left\\{(H,1),\\dots,(H,6)\\right\\}$, iar evenimentul \n",
    "\"iese 5\" este $E_5=\\left\\{(H,5),(T,5)\\right\\}$. Notă cu $E_{H,5}=E_H \\cap E_5$. Avem \n",
    "$\\mathcal{P}(E_{H,5})=\\frac{1}{12}=\\frac{1}{2}\\cdot\\frac{1}{6}$, adică \n",
    "$$\n",
    "\\mathcal{P}(E_H \\cap E_5)=\\mathcal{P}(E_H)\\cdot\\mathcal{P}(E_5).\n",
    "$$\n",
    "\n",
    "Spunem informal că două evenimente sînt independente dacă nu se influențează unul pe celălalt. Pentru evenimente independete avem **principiul înmulțirii:**\n",
    "\n",
    "**Fie $E$ și $F$ două evenimente independente. Atunci $\\mathcal{P}(E \\cap F) = \\mathcal{P}(E)\\cdot\\mathcal{P}(F).$**"
   ]
  },
  {
   "cell_type": "code",
   "execution_count": null,
   "id": "4542ca96",
   "metadata": {},
   "outputs": [],
   "source": []
  }
 ],
 "metadata": {
  "kernelspec": {
   "display_name": "Julia 1.7.0",
   "language": "julia",
   "name": "julia-1.7"
  },
  "language_info": {
   "file_extension": ".jl",
   "mimetype": "application/julia",
   "name": "julia",
   "version": "1.7.0"
  }
 },
 "nbformat": 4,
 "nbformat_minor": 5
}
