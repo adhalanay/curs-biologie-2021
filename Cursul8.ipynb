{
 "cells": [
  {
   "cell_type": "code",
   "execution_count": 1,
   "id": "a8a0099b-a93a-47c0-8842-8bc4531851f4",
   "metadata": {},
   "outputs": [],
   "source": [
    "using ForwardDiff"
   ]
  },
  {
   "cell_type": "code",
   "execution_count": 2,
   "id": "dc6ae1df-6add-43f2-909e-5c40845c1848",
   "metadata": {},
   "outputs": [
    {
     "data": {
      "text/plain": [
       "f (generic function with 1 method)"
      ]
     },
     "execution_count": 2,
     "metadata": {},
     "output_type": "execute_result"
    }
   ],
   "source": [
    "f(x,y)=[exp(sin(x*y)),x+cos(x-y),x*y^log(x)]"
   ]
  },
  {
   "cell_type": "code",
   "execution_count": 3,
   "id": "5d6ffbba-a53d-4bfc-b34a-450d853ca9c9",
   "metadata": {},
   "outputs": [
    {
     "data": {
      "text/plain": [
       "3-element Vector{Float64}:\n",
       " 2.319776824715853\n",
       " 2.0\n",
       " 1.0"
      ]
     },
     "execution_count": 3,
     "metadata": {},
     "output_type": "execute_result"
    }
   ],
   "source": [
    "f(1,1)"
   ]
  },
  {
   "cell_type": "code",
   "execution_count": 4,
   "id": "ea1ba015-fd8f-4a45-8c86-2935b265a200",
   "metadata": {},
   "outputs": [
    {
     "data": {
      "text/plain": [
       "3×2 Matrix{Float64}:\n",
       " 1.25338  1.25338\n",
       " 1.0      0.0\n",
       " 1.0      0.0"
      ]
     },
     "execution_count": 4,
     "metadata": {},
     "output_type": "execute_result"
    }
   ],
   "source": [
    "ForwardDiff.jacobian(x->f(x[1],x[2]),[1.0,1.0])"
   ]
  },
  {
   "cell_type": "code",
   "execution_count": 4,
   "id": "02960ca1-a376-45b0-a976-8f26ec111d8e",
   "metadata": {},
   "outputs": [],
   "source": [
    "using SymPy"
   ]
  },
  {
   "cell_type": "code",
   "execution_count": 6,
   "id": "7fb9c99a-00c0-404c-b70b-1a93f95272b5",
   "metadata": {},
   "outputs": [
    {
     "data": {
      "text/latex": [
       "$\\begin{equation*}x\\end{equation*}$\n"
      ],
      "text/plain": [
       "x"
      ]
     },
     "execution_count": 6,
     "metadata": {},
     "output_type": "execute_result"
    }
   ],
   "source": [
    "x=Sym(\"x\")"
   ]
  },
  {
   "cell_type": "code",
   "execution_count": 7,
   "id": "f83f0753-c110-4adb-80e2-befa5259bfb1",
   "metadata": {},
   "outputs": [
    {
     "data": {
      "text/plain": [
       "f (generic function with 1 method)"
      ]
     },
     "execution_count": 7,
     "metadata": {},
     "output_type": "execute_result"
    }
   ],
   "source": [
    "f(x)=exp(sin(x))"
   ]
  },
  {
   "cell_type": "code",
   "execution_count": 8,
   "id": "a1c02852-698b-44db-9dca-1a9949ec1665",
   "metadata": {},
   "outputs": [
    {
     "data": {
      "text/plain": [
       "g (generic function with 1 method)"
      ]
     },
     "execution_count": 8,
     "metadata": {},
     "output_type": "execute_result"
    }
   ],
   "source": [
    "g(x)=diff(f(x),x)"
   ]
  },
  {
   "cell_type": "code",
   "execution_count": 9,
   "id": "8d9234e4-a75c-452e-9544-3d8151b71c89",
   "metadata": {},
   "outputs": [
    {
     "data": {
      "text/latex": [
       "$\\begin{equation*}e^{\\sin{\\left(x \\right)}} \\cos{\\left(x \\right)}\\end{equation*}$\n"
      ],
      "text/plain": [
       " sin(x)       \n",
       "ℯ      ⋅cos(x)"
      ]
     },
     "execution_count": 9,
     "metadata": {},
     "output_type": "execute_result"
    }
   ],
   "source": [
    "g(x)"
   ]
  },
  {
   "cell_type": "code",
   "execution_count": 10,
   "id": "498f4782-549b-4b41-949c-5f560cf722a8",
   "metadata": {},
   "outputs": [
    {
     "data": {
      "text/plain": [
       "f (generic function with 1 method)"
      ]
     },
     "execution_count": 10,
     "metadata": {},
     "output_type": "execute_result"
    }
   ],
   "source": [
    "f(x)=log(tan(x/2))"
   ]
  },
  {
   "cell_type": "code",
   "execution_count": 11,
   "id": "a87de077-592b-44c2-a28f-dc9d84ffd147",
   "metadata": {},
   "outputs": [
    {
     "data": {
      "text/plain": [
       "g (generic function with 1 method)"
      ]
     },
     "execution_count": 11,
     "metadata": {},
     "output_type": "execute_result"
    }
   ],
   "source": [
    "g(x)=diff(f(x),x)"
   ]
  },
  {
   "cell_type": "code",
   "execution_count": 13,
   "id": "bd4caada-bf4d-460b-99ce-7b1e6f2352e3",
   "metadata": {},
   "outputs": [
    {
     "data": {
      "text/latex": [
       "$\\begin{equation*}\\frac{1}{\\sin{\\left(x \\right)}}\\end{equation*}$\n"
      ],
      "text/plain": [
       "  1   \n",
       "──────\n",
       "sin(x)"
      ]
     },
     "execution_count": 13,
     "metadata": {},
     "output_type": "execute_result"
    }
   ],
   "source": [
    "simplify(g(x))"
   ]
  },
  {
   "cell_type": "code",
   "execution_count": null,
   "id": "b2ab83e3-d6ec-4653-9aa6-4b1474081533",
   "metadata": {},
   "outputs": [],
   "source": []
  },
  {
   "cell_type": "code",
   "execution_count": 15,
   "id": "5ffab413-2d86-4440-ae0a-1be4a3d8d65c",
   "metadata": {},
   "outputs": [
    {
     "data": {
      "text/plain": [
       "(x, y)"
      ]
     },
     "execution_count": 15,
     "metadata": {},
     "output_type": "execute_result"
    }
   ],
   "source": [
    "x,y=Sym(\"x y\")"
   ]
  },
  {
   "cell_type": "code",
   "execution_count": 16,
   "id": "3adc0787-4942-466a-bba5-07cb81956d59",
   "metadata": {},
   "outputs": [
    {
     "data": {
      "text/plain": [
       "f (generic function with 2 methods)"
      ]
     },
     "execution_count": 16,
     "metadata": {},
     "output_type": "execute_result"
    }
   ],
   "source": [
    "f(x,y)=(exp(sin(x*y)),x+cos(x-y),x*y^log(x))"
   ]
  },
  {
   "cell_type": "code",
   "execution_count": 22,
   "id": "d92655ff-15b1-43f2-834b-df86802eea9e",
   "metadata": {},
   "outputs": [
    {
     "data": {
      "text/latex": [
       "$\\begin{equation*}\\frac{x y^{\\log{\\left(x \\right)}} \\log{\\left(x \\right)}}{y}\\end{equation*}$\n"
      ],
      "text/plain": [
       "   log(x)       \n",
       "x⋅y      ⋅log(x)\n",
       "────────────────\n",
       "       y        "
      ]
     },
     "execution_count": 22,
     "metadata": {},
     "output_type": "execute_result"
    }
   ],
   "source": [
    "diff(f3(x,y),y)"
   ]
  },
  {
   "cell_type": "code",
   "execution_count": 18,
   "id": "06988d5e-5287-4c60-b308-12f1f6bf468b",
   "metadata": {},
   "outputs": [
    {
     "data": {
      "text/plain": [
       "f3 (generic function with 1 method)"
      ]
     },
     "execution_count": 18,
     "metadata": {},
     "output_type": "execute_result"
    }
   ],
   "source": [
    "f1(x,y)=exp(sin(x*y))\n",
    "f2(x,y)=x+cos(x-y)\n",
    "f3(x,y)=x*y^log(x)"
   ]
  },
  {
   "cell_type": "code",
   "execution_count": 25,
   "id": "3fb2d90c-b865-4d8d-a475-d3a066c7e1ed",
   "metadata": {},
   "outputs": [
    {
     "data": {
      "text/latex": [
       "$\\begin{equation*}x y^{\\log{\\left(x \\right)}}\\end{equation*}$\n"
      ],
      "text/plain": [
       "   log(x)\n",
       "x⋅y      "
      ]
     },
     "execution_count": 25,
     "metadata": {},
     "output_type": "execute_result"
    }
   ],
   "source": [
    "f(x,y)[3]"
   ]
  },
  {
   "cell_type": "code",
   "execution_count": 5,
   "id": "5c837fb1-d352-4b58-8933-e664bbf45de2",
   "metadata": {},
   "outputs": [
    {
     "data": {
      "text/plain": [
       "F (generic function with 1 method)"
      ]
     },
     "execution_count": 5,
     "metadata": {},
     "output_type": "execute_result"
    }
   ],
   "source": [
    "F(P,Q)=[2.3*P-1.3*P^2-0.5*P*Q,0.3*Q+1.6*P*Q]"
   ]
  },
  {
   "cell_type": "code",
   "execution_count": 6,
   "id": "8e8ecb1f-f91e-40f4-a202-6d50b1d5fa74",
   "metadata": {},
   "outputs": [
    {
     "data": {
      "text/plain": [
       "2×2 Matrix{Float64}:\n",
       " 0.43125  -0.21875\n",
       " 2.34      1.0"
      ]
     },
     "execution_count": 6,
     "metadata": {},
     "output_type": "execute_result"
    }
   ],
   "source": [
    "A=ForwardDiff.jacobian(x->F(x[1],x[2]),[0.4375,1.4625])"
   ]
  },
  {
   "cell_type": "code",
   "execution_count": 7,
   "id": "dce9bc28-d3d9-46e6-8470-8b528d93a803",
   "metadata": {},
   "outputs": [],
   "source": [
    "using LinearAlgebra"
   ]
  },
  {
   "cell_type": "code",
   "execution_count": 8,
   "id": "34aeed36-fefa-4480-a83e-4963e53e57ba",
   "metadata": {},
   "outputs": [
    {
     "data": {
      "text/plain": [
       "2-element Vector{ComplexF64}:\n",
       " 0.715625 - 0.6565103650171866im\n",
       " 0.715625 + 0.6565103650171866im"
      ]
     },
     "execution_count": 8,
     "metadata": {},
     "output_type": "execute_result"
    }
   ],
   "source": [
    "eigvals(A)"
   ]
  },
  {
   "cell_type": "code",
   "execution_count": null,
   "id": "7e5513e0-4f35-44a9-a736-94a252a5b168",
   "metadata": {},
   "outputs": [],
   "source": []
  }
 ],
 "metadata": {
  "kernelspec": {
   "display_name": "Julia 1.6.3",
   "language": "julia",
   "name": "julia-1.6"
  },
  "language_info": {
   "file_extension": ".jl",
   "mimetype": "application/julia",
   "name": "julia",
   "version": "1.6.4"
  }
 },
 "nbformat": 4,
 "nbformat_minor": 5
}
