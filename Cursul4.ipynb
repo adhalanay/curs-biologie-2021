{
 "cells": [
  {
   "cell_type": "markdown",
   "id": "c50de450-5d47-4616-88de-0fc502ac284b",
   "metadata": {},
   "source": [
    "# Cursul 5"
   ]
  },
  {
   "cell_type": "markdown",
   "id": "cd428f5e-954f-47b9-b40c-17b84f265290",
   "metadata": {},
   "source": [
    "## Vectori și valori proprii"
   ]
  },
  {
   "cell_type": "markdown",
   "id": "e6c62b26-00e5-457d-8a94-ef13ab38f6f0",
   "metadata": {},
   "source": [
    "Să ne întoarcem la modelul considerat în cursul 3: $$\\mathbf{x}_{t+1}=P\\mathbf{x}_t, P = \\left(\\begin{array}{cc}  0,9925 & 0,0125 \\\\ 0,0075 & 0,9875 \\end{array}\\right).$$ Echilibrul obținut prin iterații este $\\mathbf{v}_1=(625,375)$. Dacă înmulțim $P$ cu $\\mathbf{v}_1$ bținem $P\\mathbf{v}_1=\\mathbf{v}_1$. Mai există un vector $\\mathbf{v}_2=(1,-1)$ cu un comportament asemănător $P\\mathbf{v}_2=0,98\\mathbf{v}_2$. "
   ]
  },
  {
   "cell_type": "code",
   "execution_count": 7,
   "id": "e39df2e9-94fb-4879-b093-87b17d5e3fd7",
   "metadata": {},
   "outputs": [
    {
     "data": {
      "text/plain": [
       "2-element Vector{Float64}:\n",
       " 634.9250000000001\n",
       " 375.075"
      ]
     },
     "metadata": {},
     "output_type": "display_data"
    },
    {
     "data": {
      "text/plain": [
       "2-element Vector{Float64}:\n",
       "  0.9800000000000001\n",
       " -0.9800000000000001"
      ]
     },
     "metadata": {},
     "output_type": "display_data"
    }
   ],
   "source": [
    "using LinearAlgebra\n",
    "P = [0.9925 0.0125;0.0075 0.9875]\n",
    "v1 = [635;375]\n",
    "v2 = [1;-1]\n",
    "display(P*v1)\n",
    "display(P*v2)"
   ]
  },
  {
   "cell_type": "code",
   "execution_count": null,
   "id": "e0b25831-4471-4d9c-8a37-d47d5c17c6e1",
   "metadata": {},
   "outputs": [],
   "source": []
  }
 ],
 "metadata": {
  "kernelspec": {
   "display_name": "Julia 1.6.3",
   "language": "julia",
   "name": "julia-1.6"
  },
  "language_info": {
   "file_extension": ".jl",
   "mimetype": "application/julia",
   "name": "julia",
   "version": "1.6.3"
  }
 },
 "nbformat": 4,
 "nbformat_minor": 5
}
