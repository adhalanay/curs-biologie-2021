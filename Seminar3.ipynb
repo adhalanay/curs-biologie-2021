{
 "cells": [
  {
   "cell_type": "code",
   "execution_count": null,
   "id": "f0c57939-3c77-4954-939f-3dd79edde852",
   "metadata": {},
   "outputs": [],
   "source": []
  }
 ],
 "metadata": {
  "kernelspec": {
   "display_name": "Julia 1.6.3",
   "language": "julia",
   "name": "julia-1.6"
  },
  "language_info": {
   "file_extension": ".jl",
   "mimetype": "application/julia",
   "name": "julia",
   "version": "1.6.3"
  }
 },
 "nbformat": 4,
 "nbformat_minor": 5
}
